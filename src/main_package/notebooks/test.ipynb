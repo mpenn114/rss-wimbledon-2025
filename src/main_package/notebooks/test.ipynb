{
 "cells": [
  {
   "cell_type": "code",
   "execution_count": 1,
   "id": "193841aa",
   "metadata": {},
   "outputs": [],
   "source": [
    "# Define Parameters\n",
    "import pandas as pd\n",
    "import numpy as np\n",
    "np.random.seed(44)\n",
    "mock_winnings_data = pd.DataFrame(\n",
    "    {\n",
    "        'player_id':np.arange(256),\n",
    "        'expected_winnings':1 + np.clip(np.random.pareto(2, size=256),0,19),\n",
    "        'male':[True]*128 + [False]*128,\n",
    "    }\n",
    ")\n",
    "\n",
    "num_competitors = 25\n"
   ]
  },
  {
   "cell_type": "code",
   "execution_count": 3,
   "id": "bb9427d4",
   "metadata": {},
   "outputs": [
    {
     "data": {
      "text/plain": [
       "player_id                  255\n",
       "expected_winnings    10.438596\n",
       "male                      True\n",
       "dtype: object"
      ]
     },
     "execution_count": 3,
     "metadata": {},
     "output_type": "execute_result"
    }
   ],
   "source": [
    "mock_winnings_data.max()"
   ]
  },
  {
   "cell_type": "code",
   "execution_count": 173,
   "id": "171ed26b",
   "metadata": {},
   "outputs": [],
   "source": [
    "np.random.seed(42)\n",
    "\n",
    "def create_token_assignments(mock_winnings_data:pd.DataFrame) -> pd.DataFrame:\n",
    "    \"\"\"\n",
    "    Create the token assignments from the random players\n",
    "    \"\"\"\n",
    "    alpha = np.random.random(size=num_competitors)*2 - 1\n",
    "    alpha[-1] = 10\n",
    "    expectation = mock_winnings_data['expected_winnings'].to_numpy()\n",
    "    token_assignment = np.exp(alpha[np.newaxis,:]*expectation[:,np.newaxis])\n",
    "    token_assignment = 10*token_assignment/(np.sum(token_assignment, axis=0)[np.newaxis,:])\n",
    "\n",
    "    mock_winnings_data['tokens'] = np.sum(token_assignment, axis=1)\n",
    "    return mock_winnings_data, token_assignment, alpha"
   ]
  },
  {
   "cell_type": "code",
   "execution_count": 174,
   "id": "0257b5e5",
   "metadata": {},
   "outputs": [],
   "source": [
    "token_df, token_assignment,alphas = create_token_assignments(mock_winnings_data)"
   ]
  },
  {
   "cell_type": "code",
   "execution_count": 175,
   "id": "cfcd9a62",
   "metadata": {},
   "outputs": [],
   "source": [
    "def optimise_strategy(tokens:np.ndarray):\n",
    "    tokens = 10*np.abs(tokens)/np.sum(np.abs(tokens))\n",
    "    total_tokens = (tokens + token_df['tokens'].to_numpy())\n",
    "    expected_winnings = np.sum(\n",
    "        token_df['expected_winnings'].to_numpy()*tokens/total_tokens\n",
    "    )\n",
    "    opponent_winnings = token_df['expected_winnings'].to_numpy()[:,np.newaxis]*token_assignment/(total_tokens[:,np.newaxis])\n",
    "    return -expected_winnings + np.max(np.sum(opponent_winnings,axis=0))"
   ]
  },
  {
   "cell_type": "code",
   "execution_count": 176,
   "id": "4c94c9d7",
   "metadata": {},
   "outputs": [],
   "source": [
    "from scipy.optimize import minimize\n",
    "\n",
    "optimal_solution = minimize(optimise_strategy, 10*np.ones(256)/256)"
   ]
  },
  {
   "cell_type": "code",
   "execution_count": 177,
   "id": "31fc1644",
   "metadata": {},
   "outputs": [
    {
     "data": {
      "text/plain": [
       "  message: Desired error not necessarily achieved due to precision loss.\n",
       "  success: False\n",
       "   status: 2\n",
       "      fun: -14.781782861200686\n",
       "        x: [ 1.645e-01 -6.264e-09 ... -2.653e-10  6.794e-02]\n",
       "      nit: 480\n",
       "      jac: [-3.886e-05  2.206e-01 ...  1.309e+00 -2.003e-04]\n",
       " hess_inv: [[ 9.837e-01 -2.925e-07 ... -3.431e-06 -1.792e-02]\n",
       "            [-2.925e-07  1.783e-07 ... -1.858e-08  1.244e-06]\n",
       "            ...\n",
       "            [-3.431e-06 -1.858e-08 ...  2.763e-07 -9.488e-07]\n",
       "            [-1.792e-02  1.244e-06 ... -9.488e-07  9.569e-01]]\n",
       "     nfev: 144189\n",
       "     njev: 561"
      ]
     },
     "execution_count": 177,
     "metadata": {},
     "output_type": "execute_result"
    }
   ],
   "source": [
    "optimal_solution"
   ]
  },
  {
   "cell_type": "code",
   "execution_count": 178,
   "id": "fa573a42",
   "metadata": {},
   "outputs": [],
   "source": [
    "token_df['our_tokens'] = 10*np.abs(optimal_solution.x)/np.sum(np.abs(optimal_solution.x))"
   ]
  },
  {
   "cell_type": "code",
   "execution_count": null,
   "id": "a0197b78",
   "metadata": {},
   "outputs": [
    {
     "data": {
      "text/plain": [
       "0.000390625"
      ]
     },
     "execution_count": 184,
     "metadata": {},
     "output_type": "execute_result"
    }
   ],
   "source": [
    "(1/256)*0.1"
   ]
  },
  {
   "cell_type": "code",
   "execution_count": 180,
   "id": "6af99e05",
   "metadata": {},
   "outputs": [
    {
     "data": {
      "text/plain": [
       "<matplotlib.collections.PathCollection at 0x1a28f9e4e10>"
      ]
     },
     "execution_count": 180,
     "metadata": {},
     "output_type": "execute_result"
    },
    {
     "data": {
      "image/png": "[encoded data removed]",
      "text/plain": [
       "<Figure size 640x480 with 1 Axes>"
      ]
     },
     "metadata": {},
     "output_type": "display_data"
    }
   ],
   "source": [
    "plt.scatter(token_df['expected_winnings'],token_df['our_tokens'])"
   ]
  },
  {
   "cell_type": "code",
   "execution_count": 181,
   "id": "fba58340",
   "metadata": {},
   "outputs": [],
   "source": [
    "tokens = 10*np.abs(optimal_solution.x)/np.sum(np.abs(optimal_solution.x))\n",
    "total_tokens = (tokens + token_df['tokens'].to_numpy())\n",
    "\n",
    "opponent_winnings = token_df['expected_winnings'].to_numpy()[:,np.newaxis]*token_assignment/(total_tokens[:,np.newaxis])\n",
    "overall_opp_winings = np.sum(opponent_winnings,axis=0)"
   ]
  },
  {
   "cell_type": "code",
   "execution_count": 182,
   "id": "a3e04d80",
   "metadata": {},
   "outputs": [
    {
     "data": {
      "text/plain": [
       "Text(0.5, 0, 'alpha')"
      ]
     },
     "execution_count": 182,
     "metadata": {},
     "output_type": "execute_result"
    },
    {
     "data": {
      "image/png": "[encoded data removed]",
      "text/plain": [
       "<Figure size 640x480 with 1 Axes>"
      ]
     },
     "metadata": {},
     "output_type": "display_data"
    }
   ],
   "source": [
    "plt.scatter(alphas,overall_opp_winings)\n",
    "plt.xlabel('alpha')"
   ]
  },
  {
   "cell_type": "code",
   "execution_count": null,
   "id": "49d5a2d6",
   "metadata": {},
   "outputs": [],
   "source": []
  }
 ],
 "metadata": {
  "kernelspec": {
   "display_name": "Python 3",
   "language": "python",
   "name": "python3"
  },
  "language_info": {
   "codemirror_mode": {
    "name": "ipython",
    "version": 3
   },
   "file_extension": ".py",
   "mimetype": "text/x-python",
   "name": "python",
   "nbconvert_exporter": "python",
   "pygments_lexer": "ipython3",
   "version": "3.13.0"
  }
 },
 "nbformat": 4,
 "nbformat_minor": 5
}
