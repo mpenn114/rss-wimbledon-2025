{
 "cells": [
  {
   "cell_type": "code",
   "execution_count": null,
   "id": "193841aa",
   "metadata": {
    "vscode": {
     "languageId": "plaintext"
    }
   },
   "outputs": [],
   "source": [
    "import requests\n",
    "from bs4 import BeautifulSoup\n",
    "\n",
    "def fetch_atp_rankings():\n",
    "    url = 'https://www.atptour.com/en/rankings/singles'\n",
    "    response = requests.get(url)\n",
    "    soup = BeautifulSoup(response.text, 'html.parser')\n",
    "\n",
    "    # Find the table containing the rankings\n",
    "    table = soup.find('table', {'class': 'mega-table'})\n",
    "\n",
    "    # Initialize a list to store player data\n",
    "    players = []\n",
    "\n",
    "    # Iterate over each row in the table\n",
    "    for row in table.find_all('tr')[1:]:  # Skip the header row\n",
    "        columns = row.find_all('td')\n",
    "        if len(columns) > 1:\n",
    "            rank = columns[0].text.strip()\n",
    "            name = columns[1].text.strip()\n",
    "            players.append((rank, name))\n",
    "\n",
    "    return players[:500]  # Return top 500 players\n",
    "\n",
    "# Example usage\n",
    "if __name__ == \"__main__\":\n",
    "    top_500_players = fetch_atp_rankings()\n",
    "    for rank, name in top_500_players:\n",
    "        print(f\"{rank}. {name}\")\n"
   ]
  },
  {
   "cell_type": "code",
   "execution_count": null,
   "id": "171ed26b",
   "metadata": {
    "vscode": {
     "languageId": "plaintext"
    }
   },
   "outputs": [],
   "source": []
  }
 ],
 "metadata": {
  "language_info": {
   "name": "python"
  }
 },
 "nbformat": 4,
 "nbformat_minor": 5
}
